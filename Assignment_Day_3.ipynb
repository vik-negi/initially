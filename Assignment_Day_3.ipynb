{
  "nbformat": 4,
  "nbformat_minor": 0,
  "metadata": {
    "colab": {
      "name": "Assignment_Day_3.ipynb",
      "provenance": []
    },
    "kernelspec": {
      "name": "python3",
      "display_name": "Python 3"
    },
    "language_info": {
      "name": "python"
    }
  },
  "cells": [
    {
      "cell_type": "code",
      "metadata": {
        "colab": {
          "base_uri": "https://localhost:8080/"
        },
        "id": "aqa2J4LKC9te",
        "outputId": "f67224a0-8ea7-42bb-af3a-c69b5610a73d"
      },
      "source": [
        "# Assignment-3\n",
        "# Question -->>\n",
        "# def fun1(a,b=0,*args,**kwargs):\n",
        "# --------??\n",
        "# --------\n",
        "# fun1(?)\n",
        "def fun1(a, b=0, *args, **kwargs):\n",
        "    print(a,b,args,kwargs)\n",
        "\n",
        "fun1(1,2,3,Skill=\"python\")"
      ],
      "execution_count": 1,
      "outputs": [
        {
          "output_type": "stream",
          "name": "stdout",
          "text": [
            "1 2 (3,) {'Skill': 'python'}\n"
          ]
        }
      ]
    },
    {
      "cell_type": "code",
      "metadata": {
        "colab": {
          "base_uri": "https://localhost:8080/"
        },
        "id": "J9uhSD07Ewdy",
        "outputId": "7db9fee5-880e-41b6-9966-d7297ef37d50"
      },
      "source": [
        "# Assignment-4\n",
        "# Write a program to implement insertion sort\n",
        "\n",
        "def insertion_sort(arr):\n",
        "\n",
        "\tfor i in range(1, len(arr)):\n",
        "\n",
        "\t\tkey = arr[i]\n",
        "\t\tj = i-1\n",
        "\t\twhile j >=0 and key < arr[j] :\n",
        "\t\t\t\tarr[j+1] = arr[j]\n",
        "\t\t\t\tj -= 1\n",
        "\t\tarr[j+1] = key\n",
        "\n",
        "arr = [1, 5, 7, 10, 13, 15, 3,6]\n",
        "insertion_sort(arr)\n",
        "print (\"Sorted array is:\")\n",
        "for i in range(len(arr)):\n",
        "\tprint (\"%d\" %arr[i])"
      ],
      "execution_count": 4,
      "outputs": [
        {
          "output_type": "stream",
          "name": "stdout",
          "text": [
            "Sorted array is:\n",
            "1\n",
            "3\n",
            "5\n",
            "6\n",
            "7\n",
            "10\n",
            "13\n",
            "15\n"
          ]
        }
      ]
    },
    {
      "cell_type": "code",
      "metadata": {
        "id": "o6I1TCwaHy9R"
      },
      "source": [
        ""
      ],
      "execution_count": null,
      "outputs": []
    }
  ]
}