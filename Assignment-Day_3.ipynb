{
  "nbformat": 4,
  "nbformat_minor": 0,
  "metadata": {
    "colab": {
      "name": "Assignment_Day_2.ipynb",
      "provenance": []
    },
    "kernelspec": {
      "name": "python3",
      "display_name": "Python 3"
    },
    "language_info": {
      "name": "python"
    }
  },
  "cells": [
    {
      "cell_type": "code",
      "metadata": {
        "id": "59ap9HHrdBjT"
      },
      "source": [
        "import pandas as pd\n",
        "import numpy as np"
      ],
      "execution_count": 111,
      "outputs": []
    },
    {
      "cell_type": "code",
      "metadata": {
        "id": "651aDRzscs0o"
      },
      "source": [
        "## Assignment - Explore this dataset using pandas...\n",
        "\n",
        "df=pd.read_csv('https://download.bls.gov/pub/time.series/cu/cu.item',\n",
        "                 sep='\\t')"
      ],
      "execution_count": 112,
      "outputs": []
    },
    {
      "cell_type": "code",
      "metadata": {
        "colab": {
          "base_uri": "https://localhost:8080/",
          "height": 414
        },
        "id": "IfVar710cw9w",
        "outputId": "b3106dd0-c21d-4165-8048-145393d77f71"
      },
      "source": [
        "df"
      ],
      "execution_count": 114,
      "outputs": [
        {
          "output_type": "execute_result",
          "data": {
            "text/html": [
              "<div>\n",
              "<style scoped>\n",
              "    .dataframe tbody tr th:only-of-type {\n",
              "        vertical-align: middle;\n",
              "    }\n",
              "\n",
              "    .dataframe tbody tr th {\n",
              "        vertical-align: top;\n",
              "    }\n",
              "\n",
              "    .dataframe thead th {\n",
              "        text-align: right;\n",
              "    }\n",
              "</style>\n",
              "<table border=\"1\" class=\"dataframe\">\n",
              "  <thead>\n",
              "    <tr style=\"text-align: right;\">\n",
              "      <th></th>\n",
              "      <th>item_code</th>\n",
              "      <th>item_name</th>\n",
              "      <th>display_level</th>\n",
              "      <th>selectable</th>\n",
              "      <th>sort_sequence</th>\n",
              "    </tr>\n",
              "  </thead>\n",
              "  <tbody>\n",
              "    <tr>\n",
              "      <th>0</th>\n",
              "      <td>AA0</td>\n",
              "      <td>All items - old base</td>\n",
              "      <td>0</td>\n",
              "      <td>T</td>\n",
              "      <td>2</td>\n",
              "    </tr>\n",
              "    <tr>\n",
              "      <th>1</th>\n",
              "      <td>AA0R</td>\n",
              "      <td>Purchasing power of the consumer dollar - old ...</td>\n",
              "      <td>0</td>\n",
              "      <td>T</td>\n",
              "      <td>399</td>\n",
              "    </tr>\n",
              "    <tr>\n",
              "      <th>2</th>\n",
              "      <td>SA0</td>\n",
              "      <td>All items</td>\n",
              "      <td>0</td>\n",
              "      <td>T</td>\n",
              "      <td>1</td>\n",
              "    </tr>\n",
              "    <tr>\n",
              "      <th>3</th>\n",
              "      <td>SA0E</td>\n",
              "      <td>Energy</td>\n",
              "      <td>1</td>\n",
              "      <td>T</td>\n",
              "      <td>374</td>\n",
              "    </tr>\n",
              "    <tr>\n",
              "      <th>4</th>\n",
              "      <td>SA0L1</td>\n",
              "      <td>All items less food</td>\n",
              "      <td>1</td>\n",
              "      <td>T</td>\n",
              "      <td>358</td>\n",
              "    </tr>\n",
              "    <tr>\n",
              "      <th>...</th>\n",
              "      <td>...</td>\n",
              "      <td>...</td>\n",
              "      <td>...</td>\n",
              "      <td>...</td>\n",
              "      <td>...</td>\n",
              "    </tr>\n",
              "    <tr>\n",
              "      <th>394</th>\n",
              "      <td>SS68023</td>\n",
              "      <td>Tax return preparation and other accounting fees</td>\n",
              "      <td>4</td>\n",
              "      <td>T</td>\n",
              "      <td>352</td>\n",
              "    </tr>\n",
              "    <tr>\n",
              "      <th>395</th>\n",
              "      <td>SSEA011</td>\n",
              "      <td>College textbooks</td>\n",
              "      <td>3</td>\n",
              "      <td>T</td>\n",
              "      <td>314</td>\n",
              "    </tr>\n",
              "    <tr>\n",
              "      <th>396</th>\n",
              "      <td>SSFV031A</td>\n",
              "      <td>Food at elementary and secondary schools</td>\n",
              "      <td>3</td>\n",
              "      <td>T</td>\n",
              "      <td>122</td>\n",
              "    </tr>\n",
              "    <tr>\n",
              "      <th>397</th>\n",
              "      <td>SSGE013</td>\n",
              "      <td>Infants' equipment</td>\n",
              "      <td>3</td>\n",
              "      <td>T</td>\n",
              "      <td>355</td>\n",
              "    </tr>\n",
              "    <tr>\n",
              "      <th>398</th>\n",
              "      <td>SSHJ031</td>\n",
              "      <td>Infants' furniture</td>\n",
              "      <td>3</td>\n",
              "      <td>T</td>\n",
              "      <td>165</td>\n",
              "    </tr>\n",
              "  </tbody>\n",
              "</table>\n",
              "<p>399 rows × 5 columns</p>\n",
              "</div>"
            ],
            "text/plain": [
              "    item_code  ... sort_sequence\n",
              "0         AA0  ...             2\n",
              "1        AA0R  ...           399\n",
              "2         SA0  ...             1\n",
              "3        SA0E  ...           374\n",
              "4       SA0L1  ...           358\n",
              "..        ...  ...           ...\n",
              "394   SS68023  ...           352\n",
              "395   SSEA011  ...           314\n",
              "396  SSFV031A  ...           122\n",
              "397   SSGE013  ...           355\n",
              "398   SSHJ031  ...           165\n",
              "\n",
              "[399 rows x 5 columns]"
            ]
          },
          "metadata": {},
          "execution_count": 114
        }
      ]
    },
    {
      "cell_type": "code",
      "metadata": {
        "colab": {
          "base_uri": "https://localhost:8080/",
          "height": 202
        },
        "id": "rLfhZmLBc42K",
        "outputId": "3f556b4d-a351-4ce3-ce81-02e4a3d6e356"
      },
      "source": [
        "df.head()"
      ],
      "execution_count": 115,
      "outputs": [
        {
          "output_type": "execute_result",
          "data": {
            "text/html": [
              "<div>\n",
              "<style scoped>\n",
              "    .dataframe tbody tr th:only-of-type {\n",
              "        vertical-align: middle;\n",
              "    }\n",
              "\n",
              "    .dataframe tbody tr th {\n",
              "        vertical-align: top;\n",
              "    }\n",
              "\n",
              "    .dataframe thead th {\n",
              "        text-align: right;\n",
              "    }\n",
              "</style>\n",
              "<table border=\"1\" class=\"dataframe\">\n",
              "  <thead>\n",
              "    <tr style=\"text-align: right;\">\n",
              "      <th></th>\n",
              "      <th>item_code</th>\n",
              "      <th>item_name</th>\n",
              "      <th>display_level</th>\n",
              "      <th>selectable</th>\n",
              "      <th>sort_sequence</th>\n",
              "    </tr>\n",
              "  </thead>\n",
              "  <tbody>\n",
              "    <tr>\n",
              "      <th>0</th>\n",
              "      <td>AA0</td>\n",
              "      <td>All items - old base</td>\n",
              "      <td>0</td>\n",
              "      <td>T</td>\n",
              "      <td>2</td>\n",
              "    </tr>\n",
              "    <tr>\n",
              "      <th>1</th>\n",
              "      <td>AA0R</td>\n",
              "      <td>Purchasing power of the consumer dollar - old ...</td>\n",
              "      <td>0</td>\n",
              "      <td>T</td>\n",
              "      <td>399</td>\n",
              "    </tr>\n",
              "    <tr>\n",
              "      <th>2</th>\n",
              "      <td>SA0</td>\n",
              "      <td>All items</td>\n",
              "      <td>0</td>\n",
              "      <td>T</td>\n",
              "      <td>1</td>\n",
              "    </tr>\n",
              "    <tr>\n",
              "      <th>3</th>\n",
              "      <td>SA0E</td>\n",
              "      <td>Energy</td>\n",
              "      <td>1</td>\n",
              "      <td>T</td>\n",
              "      <td>374</td>\n",
              "    </tr>\n",
              "    <tr>\n",
              "      <th>4</th>\n",
              "      <td>SA0L1</td>\n",
              "      <td>All items less food</td>\n",
              "      <td>1</td>\n",
              "      <td>T</td>\n",
              "      <td>358</td>\n",
              "    </tr>\n",
              "  </tbody>\n",
              "</table>\n",
              "</div>"
            ],
            "text/plain": [
              "  item_code  ... sort_sequence\n",
              "0       AA0  ...             2\n",
              "1      AA0R  ...           399\n",
              "2       SA0  ...             1\n",
              "3      SA0E  ...           374\n",
              "4     SA0L1  ...           358\n",
              "\n",
              "[5 rows x 5 columns]"
            ]
          },
          "metadata": {},
          "execution_count": 115
        }
      ]
    },
    {
      "cell_type": "code",
      "metadata": {
        "colab": {
          "base_uri": "https://localhost:8080/",
          "height": 202
        },
        "id": "QFdKX_bJdNu7",
        "outputId": "8100430e-7d99-4cf2-cee0-a6079b8f3e94"
      },
      "source": [
        "df.tail()"
      ],
      "execution_count": 116,
      "outputs": [
        {
          "output_type": "execute_result",
          "data": {
            "text/html": [
              "<div>\n",
              "<style scoped>\n",
              "    .dataframe tbody tr th:only-of-type {\n",
              "        vertical-align: middle;\n",
              "    }\n",
              "\n",
              "    .dataframe tbody tr th {\n",
              "        vertical-align: top;\n",
              "    }\n",
              "\n",
              "    .dataframe thead th {\n",
              "        text-align: right;\n",
              "    }\n",
              "</style>\n",
              "<table border=\"1\" class=\"dataframe\">\n",
              "  <thead>\n",
              "    <tr style=\"text-align: right;\">\n",
              "      <th></th>\n",
              "      <th>item_code</th>\n",
              "      <th>item_name</th>\n",
              "      <th>display_level</th>\n",
              "      <th>selectable</th>\n",
              "      <th>sort_sequence</th>\n",
              "    </tr>\n",
              "  </thead>\n",
              "  <tbody>\n",
              "    <tr>\n",
              "      <th>394</th>\n",
              "      <td>SS68023</td>\n",
              "      <td>Tax return preparation and other accounting fees</td>\n",
              "      <td>4</td>\n",
              "      <td>T</td>\n",
              "      <td>352</td>\n",
              "    </tr>\n",
              "    <tr>\n",
              "      <th>395</th>\n",
              "      <td>SSEA011</td>\n",
              "      <td>College textbooks</td>\n",
              "      <td>3</td>\n",
              "      <td>T</td>\n",
              "      <td>314</td>\n",
              "    </tr>\n",
              "    <tr>\n",
              "      <th>396</th>\n",
              "      <td>SSFV031A</td>\n",
              "      <td>Food at elementary and secondary schools</td>\n",
              "      <td>3</td>\n",
              "      <td>T</td>\n",
              "      <td>122</td>\n",
              "    </tr>\n",
              "    <tr>\n",
              "      <th>397</th>\n",
              "      <td>SSGE013</td>\n",
              "      <td>Infants' equipment</td>\n",
              "      <td>3</td>\n",
              "      <td>T</td>\n",
              "      <td>355</td>\n",
              "    </tr>\n",
              "    <tr>\n",
              "      <th>398</th>\n",
              "      <td>SSHJ031</td>\n",
              "      <td>Infants' furniture</td>\n",
              "      <td>3</td>\n",
              "      <td>T</td>\n",
              "      <td>165</td>\n",
              "    </tr>\n",
              "  </tbody>\n",
              "</table>\n",
              "</div>"
            ],
            "text/plain": [
              "    item_code  ... sort_sequence\n",
              "394   SS68023  ...           352\n",
              "395   SSEA011  ...           314\n",
              "396  SSFV031A  ...           122\n",
              "397   SSGE013  ...           355\n",
              "398   SSHJ031  ...           165\n",
              "\n",
              "[5 rows x 5 columns]"
            ]
          },
          "metadata": {},
          "execution_count": 116
        }
      ]
    },
    {
      "cell_type": "code",
      "metadata": {
        "colab": {
          "base_uri": "https://localhost:8080/"
        },
        "id": "Yofic0ovdSVC",
        "outputId": "366bc2f6-5a3e-4663-8ca7-dac1e0ceba9a"
      },
      "source": [
        "df['item_name']"
      ],
      "execution_count": 117,
      "outputs": [
        {
          "output_type": "execute_result",
          "data": {
            "text/plain": [
              "0                                   All items - old base\n",
              "1      Purchasing power of the consumer dollar - old ...\n",
              "2                                              All items\n",
              "3                                                 Energy\n",
              "4                                    All items less food\n",
              "                             ...                        \n",
              "394     Tax return preparation and other accounting fees\n",
              "395                                    College textbooks\n",
              "396             Food at elementary and secondary schools\n",
              "397                                   Infants' equipment\n",
              "398                                   Infants' furniture\n",
              "Name: item_name, Length: 399, dtype: object"
            ]
          },
          "metadata": {},
          "execution_count": 117
        }
      ]
    },
    {
      "cell_type": "code",
      "metadata": {
        "colab": {
          "base_uri": "https://localhost:8080/",
          "height": 414
        },
        "id": "-cH_jPZcdbN-",
        "outputId": "2bea1a5f-4070-47e3-e836-82f411610cf5"
      },
      "source": [
        "df[['item_code', 'display_level']]"
      ],
      "execution_count": 118,
      "outputs": [
        {
          "output_type": "execute_result",
          "data": {
            "text/html": [
              "<div>\n",
              "<style scoped>\n",
              "    .dataframe tbody tr th:only-of-type {\n",
              "        vertical-align: middle;\n",
              "    }\n",
              "\n",
              "    .dataframe tbody tr th {\n",
              "        vertical-align: top;\n",
              "    }\n",
              "\n",
              "    .dataframe thead th {\n",
              "        text-align: right;\n",
              "    }\n",
              "</style>\n",
              "<table border=\"1\" class=\"dataframe\">\n",
              "  <thead>\n",
              "    <tr style=\"text-align: right;\">\n",
              "      <th></th>\n",
              "      <th>item_code</th>\n",
              "      <th>display_level</th>\n",
              "    </tr>\n",
              "  </thead>\n",
              "  <tbody>\n",
              "    <tr>\n",
              "      <th>0</th>\n",
              "      <td>AA0</td>\n",
              "      <td>0</td>\n",
              "    </tr>\n",
              "    <tr>\n",
              "      <th>1</th>\n",
              "      <td>AA0R</td>\n",
              "      <td>0</td>\n",
              "    </tr>\n",
              "    <tr>\n",
              "      <th>2</th>\n",
              "      <td>SA0</td>\n",
              "      <td>0</td>\n",
              "    </tr>\n",
              "    <tr>\n",
              "      <th>3</th>\n",
              "      <td>SA0E</td>\n",
              "      <td>1</td>\n",
              "    </tr>\n",
              "    <tr>\n",
              "      <th>4</th>\n",
              "      <td>SA0L1</td>\n",
              "      <td>1</td>\n",
              "    </tr>\n",
              "    <tr>\n",
              "      <th>...</th>\n",
              "      <td>...</td>\n",
              "      <td>...</td>\n",
              "    </tr>\n",
              "    <tr>\n",
              "      <th>394</th>\n",
              "      <td>SS68023</td>\n",
              "      <td>4</td>\n",
              "    </tr>\n",
              "    <tr>\n",
              "      <th>395</th>\n",
              "      <td>SSEA011</td>\n",
              "      <td>3</td>\n",
              "    </tr>\n",
              "    <tr>\n",
              "      <th>396</th>\n",
              "      <td>SSFV031A</td>\n",
              "      <td>3</td>\n",
              "    </tr>\n",
              "    <tr>\n",
              "      <th>397</th>\n",
              "      <td>SSGE013</td>\n",
              "      <td>3</td>\n",
              "    </tr>\n",
              "    <tr>\n",
              "      <th>398</th>\n",
              "      <td>SSHJ031</td>\n",
              "      <td>3</td>\n",
              "    </tr>\n",
              "  </tbody>\n",
              "</table>\n",
              "<p>399 rows × 2 columns</p>\n",
              "</div>"
            ],
            "text/plain": [
              "    item_code  display_level\n",
              "0         AA0              0\n",
              "1        AA0R              0\n",
              "2         SA0              0\n",
              "3        SA0E              1\n",
              "4       SA0L1              1\n",
              "..        ...            ...\n",
              "394   SS68023              4\n",
              "395   SSEA011              3\n",
              "396  SSFV031A              3\n",
              "397   SSGE013              3\n",
              "398   SSHJ031              3\n",
              "\n",
              "[399 rows x 2 columns]"
            ]
          },
          "metadata": {},
          "execution_count": 118
        }
      ]
    },
    {
      "cell_type": "code",
      "metadata": {
        "colab": {
          "base_uri": "https://localhost:8080/",
          "height": 414
        },
        "id": "_Rj4JLR7d-q0",
        "outputId": "9ebcd66e-5015-47d1-ab20-487285d97beb"
      },
      "source": [
        "df"
      ],
      "execution_count": 119,
      "outputs": [
        {
          "output_type": "execute_result",
          "data": {
            "text/html": [
              "<div>\n",
              "<style scoped>\n",
              "    .dataframe tbody tr th:only-of-type {\n",
              "        vertical-align: middle;\n",
              "    }\n",
              "\n",
              "    .dataframe tbody tr th {\n",
              "        vertical-align: top;\n",
              "    }\n",
              "\n",
              "    .dataframe thead th {\n",
              "        text-align: right;\n",
              "    }\n",
              "</style>\n",
              "<table border=\"1\" class=\"dataframe\">\n",
              "  <thead>\n",
              "    <tr style=\"text-align: right;\">\n",
              "      <th></th>\n",
              "      <th>item_code</th>\n",
              "      <th>item_name</th>\n",
              "      <th>display_level</th>\n",
              "      <th>selectable</th>\n",
              "      <th>sort_sequence</th>\n",
              "    </tr>\n",
              "  </thead>\n",
              "  <tbody>\n",
              "    <tr>\n",
              "      <th>0</th>\n",
              "      <td>AA0</td>\n",
              "      <td>All items - old base</td>\n",
              "      <td>0</td>\n",
              "      <td>T</td>\n",
              "      <td>2</td>\n",
              "    </tr>\n",
              "    <tr>\n",
              "      <th>1</th>\n",
              "      <td>AA0R</td>\n",
              "      <td>Purchasing power of the consumer dollar - old ...</td>\n",
              "      <td>0</td>\n",
              "      <td>T</td>\n",
              "      <td>399</td>\n",
              "    </tr>\n",
              "    <tr>\n",
              "      <th>2</th>\n",
              "      <td>SA0</td>\n",
              "      <td>All items</td>\n",
              "      <td>0</td>\n",
              "      <td>T</td>\n",
              "      <td>1</td>\n",
              "    </tr>\n",
              "    <tr>\n",
              "      <th>3</th>\n",
              "      <td>SA0E</td>\n",
              "      <td>Energy</td>\n",
              "      <td>1</td>\n",
              "      <td>T</td>\n",
              "      <td>374</td>\n",
              "    </tr>\n",
              "    <tr>\n",
              "      <th>4</th>\n",
              "      <td>SA0L1</td>\n",
              "      <td>All items less food</td>\n",
              "      <td>1</td>\n",
              "      <td>T</td>\n",
              "      <td>358</td>\n",
              "    </tr>\n",
              "    <tr>\n",
              "      <th>...</th>\n",
              "      <td>...</td>\n",
              "      <td>...</td>\n",
              "      <td>...</td>\n",
              "      <td>...</td>\n",
              "      <td>...</td>\n",
              "    </tr>\n",
              "    <tr>\n",
              "      <th>394</th>\n",
              "      <td>SS68023</td>\n",
              "      <td>Tax return preparation and other accounting fees</td>\n",
              "      <td>4</td>\n",
              "      <td>T</td>\n",
              "      <td>352</td>\n",
              "    </tr>\n",
              "    <tr>\n",
              "      <th>395</th>\n",
              "      <td>SSEA011</td>\n",
              "      <td>College textbooks</td>\n",
              "      <td>3</td>\n",
              "      <td>T</td>\n",
              "      <td>314</td>\n",
              "    </tr>\n",
              "    <tr>\n",
              "      <th>396</th>\n",
              "      <td>SSFV031A</td>\n",
              "      <td>Food at elementary and secondary schools</td>\n",
              "      <td>3</td>\n",
              "      <td>T</td>\n",
              "      <td>122</td>\n",
              "    </tr>\n",
              "    <tr>\n",
              "      <th>397</th>\n",
              "      <td>SSGE013</td>\n",
              "      <td>Infants' equipment</td>\n",
              "      <td>3</td>\n",
              "      <td>T</td>\n",
              "      <td>355</td>\n",
              "    </tr>\n",
              "    <tr>\n",
              "      <th>398</th>\n",
              "      <td>SSHJ031</td>\n",
              "      <td>Infants' furniture</td>\n",
              "      <td>3</td>\n",
              "      <td>T</td>\n",
              "      <td>165</td>\n",
              "    </tr>\n",
              "  </tbody>\n",
              "</table>\n",
              "<p>399 rows × 5 columns</p>\n",
              "</div>"
            ],
            "text/plain": [
              "    item_code  ... sort_sequence\n",
              "0         AA0  ...             2\n",
              "1        AA0R  ...           399\n",
              "2         SA0  ...             1\n",
              "3        SA0E  ...           374\n",
              "4       SA0L1  ...           358\n",
              "..        ...  ...           ...\n",
              "394   SS68023  ...           352\n",
              "395   SSEA011  ...           314\n",
              "396  SSFV031A  ...           122\n",
              "397   SSGE013  ...           355\n",
              "398   SSHJ031  ...           165\n",
              "\n",
              "[399 rows x 5 columns]"
            ]
          },
          "metadata": {},
          "execution_count": 119
        }
      ]
    },
    {
      "cell_type": "code",
      "metadata": {
        "colab": {
          "base_uri": "https://localhost:8080/",
          "height": 414
        },
        "id": "tPmm3v2SeMoZ",
        "outputId": "39069d6d-d74a-4438-d90c-4fbde37a44ad"
      },
      "source": [
        "df.iloc[:,:]"
      ],
      "execution_count": 120,
      "outputs": [
        {
          "output_type": "execute_result",
          "data": {
            "text/html": [
              "<div>\n",
              "<style scoped>\n",
              "    .dataframe tbody tr th:only-of-type {\n",
              "        vertical-align: middle;\n",
              "    }\n",
              "\n",
              "    .dataframe tbody tr th {\n",
              "        vertical-align: top;\n",
              "    }\n",
              "\n",
              "    .dataframe thead th {\n",
              "        text-align: right;\n",
              "    }\n",
              "</style>\n",
              "<table border=\"1\" class=\"dataframe\">\n",
              "  <thead>\n",
              "    <tr style=\"text-align: right;\">\n",
              "      <th></th>\n",
              "      <th>item_code</th>\n",
              "      <th>item_name</th>\n",
              "      <th>display_level</th>\n",
              "      <th>selectable</th>\n",
              "      <th>sort_sequence</th>\n",
              "    </tr>\n",
              "  </thead>\n",
              "  <tbody>\n",
              "    <tr>\n",
              "      <th>0</th>\n",
              "      <td>AA0</td>\n",
              "      <td>All items - old base</td>\n",
              "      <td>0</td>\n",
              "      <td>T</td>\n",
              "      <td>2</td>\n",
              "    </tr>\n",
              "    <tr>\n",
              "      <th>1</th>\n",
              "      <td>AA0R</td>\n",
              "      <td>Purchasing power of the consumer dollar - old ...</td>\n",
              "      <td>0</td>\n",
              "      <td>T</td>\n",
              "      <td>399</td>\n",
              "    </tr>\n",
              "    <tr>\n",
              "      <th>2</th>\n",
              "      <td>SA0</td>\n",
              "      <td>All items</td>\n",
              "      <td>0</td>\n",
              "      <td>T</td>\n",
              "      <td>1</td>\n",
              "    </tr>\n",
              "    <tr>\n",
              "      <th>3</th>\n",
              "      <td>SA0E</td>\n",
              "      <td>Energy</td>\n",
              "      <td>1</td>\n",
              "      <td>T</td>\n",
              "      <td>374</td>\n",
              "    </tr>\n",
              "    <tr>\n",
              "      <th>4</th>\n",
              "      <td>SA0L1</td>\n",
              "      <td>All items less food</td>\n",
              "      <td>1</td>\n",
              "      <td>T</td>\n",
              "      <td>358</td>\n",
              "    </tr>\n",
              "    <tr>\n",
              "      <th>...</th>\n",
              "      <td>...</td>\n",
              "      <td>...</td>\n",
              "      <td>...</td>\n",
              "      <td>...</td>\n",
              "      <td>...</td>\n",
              "    </tr>\n",
              "    <tr>\n",
              "      <th>394</th>\n",
              "      <td>SS68023</td>\n",
              "      <td>Tax return preparation and other accounting fees</td>\n",
              "      <td>4</td>\n",
              "      <td>T</td>\n",
              "      <td>352</td>\n",
              "    </tr>\n",
              "    <tr>\n",
              "      <th>395</th>\n",
              "      <td>SSEA011</td>\n",
              "      <td>College textbooks</td>\n",
              "      <td>3</td>\n",
              "      <td>T</td>\n",
              "      <td>314</td>\n",
              "    </tr>\n",
              "    <tr>\n",
              "      <th>396</th>\n",
              "      <td>SSFV031A</td>\n",
              "      <td>Food at elementary and secondary schools</td>\n",
              "      <td>3</td>\n",
              "      <td>T</td>\n",
              "      <td>122</td>\n",
              "    </tr>\n",
              "    <tr>\n",
              "      <th>397</th>\n",
              "      <td>SSGE013</td>\n",
              "      <td>Infants' equipment</td>\n",
              "      <td>3</td>\n",
              "      <td>T</td>\n",
              "      <td>355</td>\n",
              "    </tr>\n",
              "    <tr>\n",
              "      <th>398</th>\n",
              "      <td>SSHJ031</td>\n",
              "      <td>Infants' furniture</td>\n",
              "      <td>3</td>\n",
              "      <td>T</td>\n",
              "      <td>165</td>\n",
              "    </tr>\n",
              "  </tbody>\n",
              "</table>\n",
              "<p>399 rows × 5 columns</p>\n",
              "</div>"
            ],
            "text/plain": [
              "    item_code  ... sort_sequence\n",
              "0         AA0  ...             2\n",
              "1        AA0R  ...           399\n",
              "2         SA0  ...             1\n",
              "3        SA0E  ...           374\n",
              "4       SA0L1  ...           358\n",
              "..        ...  ...           ...\n",
              "394   SS68023  ...           352\n",
              "395   SSEA011  ...           314\n",
              "396  SSFV031A  ...           122\n",
              "397   SSGE013  ...           355\n",
              "398   SSHJ031  ...           165\n",
              "\n",
              "[399 rows x 5 columns]"
            ]
          },
          "metadata": {},
          "execution_count": 120
        }
      ]
    },
    {
      "cell_type": "code",
      "metadata": {
        "colab": {
          "base_uri": "https://localhost:8080/"
        },
        "id": "X1iGbA0BfEx5",
        "outputId": "be6cac5d-6637-4fbc-ed47-f5ea229215ad"
      },
      "source": [
        "df.loc[0]"
      ],
      "execution_count": 121,
      "outputs": [
        {
          "output_type": "execute_result",
          "data": {
            "text/plain": [
              "item_code                         AA0\n",
              "item_name        All items - old base\n",
              "display_level                       0\n",
              "selectable                          T\n",
              "sort_sequence                       2\n",
              "Name: 0, dtype: object"
            ]
          },
          "metadata": {},
          "execution_count": 121
        }
      ]
    },
    {
      "cell_type": "code",
      "metadata": {
        "colab": {
          "base_uri": "https://localhost:8080/"
        },
        "id": "lepDIESWf56C",
        "outputId": "8a8de8c5-f4d3-4457-f465-076467a05661"
      },
      "source": [
        "df.loc[5]"
      ],
      "execution_count": 122,
      "outputs": [
        {
          "output_type": "execute_result",
          "data": {
            "text/plain": [
              "item_code                                 SA0L12\n",
              "item_name        All items less food and shelter\n",
              "display_level                                  1\n",
              "selectable                                     T\n",
              "sort_sequence                                361\n",
              "Name: 5, dtype: object"
            ]
          },
          "metadata": {},
          "execution_count": 122
        }
      ]
    },
    {
      "cell_type": "code",
      "metadata": {
        "colab": {
          "base_uri": "https://localhost:8080/"
        },
        "id": "dOEHqbUwgEla",
        "outputId": "91bb66a4-3103-4ccb-8bd6-df1fc56e4786"
      },
      "source": [
        "type(df.loc[5])"
      ],
      "execution_count": 123,
      "outputs": [
        {
          "output_type": "execute_result",
          "data": {
            "text/plain": [
              "pandas.core.series.Series"
            ]
          },
          "metadata": {},
          "execution_count": 123
        }
      ]
    },
    {
      "cell_type": "code",
      "metadata": {
        "colab": {
          "base_uri": "https://localhost:8080/"
        },
        "id": "wEbSXaS2gSly",
        "outputId": "8f975e3e-14e1-46e4-b94e-3bd0ab656460"
      },
      "source": [
        "df.iloc[:,:].values"
      ],
      "execution_count": 124,
      "outputs": [
        {
          "output_type": "execute_result",
          "data": {
            "text/plain": [
              "array([['AA0', 'All items - old base', 0, 'T', 2],\n",
              "       ['AA0R', 'Purchasing power of the consumer dollar - old base', 0,\n",
              "        'T', 399],\n",
              "       ['SA0', 'All items', 0, 'T', 1],\n",
              "       ...,\n",
              "       ['SSFV031A', 'Food at elementary and secondary schools', 3, 'T',\n",
              "        122],\n",
              "       ['SSGE013', \"Infants' equipment\", 3, 'T', 355],\n",
              "       ['SSHJ031', \"Infants' furniture\", 3, 'T', 165]], dtype=object)"
            ]
          },
          "metadata": {},
          "execution_count": 124
        }
      ]
    },
    {
      "cell_type": "code",
      "metadata": {
        "colab": {
          "base_uri": "https://localhost:8080/"
        },
        "id": "oJ302DBFgakZ",
        "outputId": "1ae8f0dc-d230-45ff-9575-8a9f63eb53a8"
      },
      "source": [
        "df.isnull().sum()"
      ],
      "execution_count": 125,
      "outputs": [
        {
          "output_type": "execute_result",
          "data": {
            "text/plain": [
              "item_code        0\n",
              "item_name        0\n",
              "display_level    0\n",
              "selectable       0\n",
              "sort_sequence    0\n",
              "dtype: int64"
            ]
          },
          "metadata": {},
          "execution_count": 125
        }
      ]
    },
    {
      "cell_type": "code",
      "metadata": {
        "colab": {
          "base_uri": "https://localhost:8080/"
        },
        "id": "9wXhkc6Egggc",
        "outputId": "0da229a6-272a-43d4-c6be-a4de10e4c819"
      },
      "source": [
        "df['display_level'].value_counts()"
      ],
      "execution_count": 126,
      "outputs": [
        {
          "output_type": "execute_result",
          "data": {
            "text/plain": [
              "3    113\n",
              "2     70\n",
              "1     66\n",
              "4     43\n",
              "6     37\n",
              "5     37\n",
              "7     18\n",
              "0     12\n",
              "8      3\n",
              "Name: display_level, dtype: int64"
            ]
          },
          "metadata": {},
          "execution_count": 126
        }
      ]
    },
    {
      "cell_type": "code",
      "metadata": {
        "colab": {
          "base_uri": "https://localhost:8080/"
        },
        "id": "GGY63zNXgvcx",
        "outputId": "ab993917-5655-4d39-b4f7-b3a33b6d775d"
      },
      "source": [
        "df['item_code'].unique()"
      ],
      "execution_count": 127,
      "outputs": [
        {
          "output_type": "execute_result",
          "data": {
            "text/plain": [
              "array(['AA0', 'AA0R', 'SA0', 'SA0E', 'SA0L1', 'SA0L12', 'SA0L12E',\n",
              "       'SA0L12E4', 'SA0L1E', 'SA0L2', 'SA0L5', 'SA0LE', 'SA0R', 'SA311',\n",
              "       'SAA', 'SAA1', 'SAA2', 'SAC', 'SACE', 'SACL1', 'SACL11', 'SACL1E',\n",
              "       'SACL1E4', 'SAD', 'SAE', 'SAE1', 'SAE2', 'SAE21', 'SAEC', 'SAES',\n",
              "       'SAF', 'SAF1', 'SAF11', 'SAF111', 'SAF112', 'SAF1121', 'SAF11211',\n",
              "       'SAF113', 'SAF1131', 'SAF114', 'SAF115', 'SAF116', 'SAG', 'SAG1',\n",
              "       'SAGC', 'SAGS', 'SAH', 'SAH1', 'SAH2', 'SAH21', 'SAH3', 'SAH31',\n",
              "       'SAM', 'SAM1', 'SAM2', 'SAN', 'SAN1D', 'SANL1', 'SANL11',\n",
              "       'SANL113', 'SANL13', 'SAR', 'SARC', 'SARS', 'SAS', 'SAS24',\n",
              "       'SAS2RS', 'SAS367', 'SAS4', 'SASL2RS', 'SASL5', 'SASLE', 'SAT',\n",
              "       'SAT1', 'SATCLTB', 'SEAA', 'SEAA01', 'SEAA02', 'SEAA03', 'SEAA04',\n",
              "       'SEAB', 'SEAC', 'SEAC01', 'SEAC02', 'SEAC03', 'SEAC04', 'SEAD',\n",
              "       'SEAE', 'SEAE01', 'SEAE02', 'SEAE03', 'SEAF', 'SEAG', 'SEAG01',\n",
              "       'SEAG02', 'SEEA', 'SEEB', 'SEEB01', 'SEEB02', 'SEEB03', 'SEEB04',\n",
              "       'SEEC', 'SEEC01', 'SEEC02', 'SEED', 'SEED03', 'SEED04', 'SEEE',\n",
              "       'SEEE01', 'SEEE02', 'SEEE03', 'SEEE04', 'SEEEC', 'SEFA', 'SEFA01',\n",
              "       'SEFA02', 'SEFA03', 'SEFB', 'SEFB01', 'SEFB02', 'SEFB03', 'SEFB04',\n",
              "       'SEFC', 'SEFC01', 'SEFC02', 'SEFC03', 'SEFC04', 'SEFD', 'SEFD01',\n",
              "       'SEFD02', 'SEFD03', 'SEFD04', 'SEFE', 'SEFF', 'SEFF01', 'SEFF02',\n",
              "       'SEFG', 'SEFG01', 'SEFG02', 'SEFH', 'SEFJ', 'SEFJ01', 'SEFJ02',\n",
              "       'SEFJ03', 'SEFJ04', 'SEFK', 'SEFK01', 'SEFK02', 'SEFK03', 'SEFK04',\n",
              "       'SEFL', 'SEFL01', 'SEFL02', 'SEFL03', 'SEFL04', 'SEFM', 'SEFM01',\n",
              "       'SEFM02', 'SEFM03', 'SEFN', 'SEFN01', 'SEFN02', 'SEFN03', 'SEFP',\n",
              "       'SEFP01', 'SEFP02', 'SEFR', 'SEFR01', 'SEFR02', 'SEFR03', 'SEFS',\n",
              "       'SEFS01', 'SEFS02', 'SEFS03', 'SEFT', 'SEFT01', 'SEFT02', 'SEFT03',\n",
              "       'SEFT04', 'SEFT05', 'SEFT06', 'SEFV', 'SEFV01', 'SEFV02', 'SEFV03',\n",
              "       'SEFV04', 'SEFV05', 'SEFW', 'SEFW01', 'SEFW02', 'SEFW03', 'SEFX',\n",
              "       'SEGA', 'SEGA01', 'SEGA02', 'SEGB', 'SEGB01', 'SEGB02', 'SEGC',\n",
              "       'SEGC01', 'SEGD', 'SEGD01', 'SEGD02', 'SEGD03', 'SEGD04', 'SEGD05',\n",
              "       'SEGE', 'SEHA', 'SEHB', 'SEHB01', 'SEHB02', 'SEHC', 'SEHC01',\n",
              "       'SEHD', 'SEHE', 'SEHE01', 'SEHE02', 'SEHF', 'SEHF01', 'SEHF02',\n",
              "       'SEHG', 'SEHG01', 'SEHG02', 'SEHH', 'SEHH01', 'SEHH02', 'SEHH03',\n",
              "       'SEHJ', 'SEHJ01', 'SEHJ02', 'SEHJ03', 'SEHK', 'SEHK01', 'SEHK02',\n",
              "       'SEHL', 'SEHL01', 'SEHL02', 'SEHL03', 'SEHL04', 'SEHM', 'SEHM01',\n",
              "       'SEHM02', 'SEHN', 'SEHN01', 'SEHN02', 'SEHN03', 'SEHP', 'SEHP01',\n",
              "       'SEHP02', 'SEHP03', 'SEHP04', 'SEMC', 'SEMC01', 'SEMC02', 'SEMC03',\n",
              "       'SEMC04', 'SEMD', 'SEMD01', 'SEMD02', 'SEMD03', 'SEME', 'SEMF',\n",
              "       'SEMF01', 'SEMF02', 'SEMG', 'SERA', 'SERA01', 'SERA02', 'SERA03',\n",
              "       'SERA04', 'SERA05', 'SERA06', 'SERAC', 'SERAS', 'SERB', 'SERB01',\n",
              "       'SERB02', 'SERC', 'SERC01', 'SERC02', 'SERD', 'SERD01', 'SERD02',\n",
              "       'SERE', 'SERE01', 'SERE02', 'SERE03', 'SERF', 'SERF01', 'SERF02',\n",
              "       'SERF03', 'SERG', 'SERG01', 'SERG02', 'SETA', 'SETA01', 'SETA02',\n",
              "       'SETA03', 'SETA04', 'SETB', 'SETB01', 'SETB02', 'SETC', 'SETC01',\n",
              "       'SETC02', 'SETD', 'SETD01', 'SETD02', 'SETD03', 'SETE', 'SETF',\n",
              "       'SETF01', 'SETF03', 'SETG', 'SETG01', 'SETG02', 'SETG03',\n",
              "       'SS01031', 'SS02011', 'SS02021', 'SS02041', 'SS02042', 'SS02063',\n",
              "       'SS0206A', 'SS0206B', 'SS04011', 'SS04012', 'SS04031', 'SS05011',\n",
              "       'SS05014', 'SS05015', 'SS0501A', 'SS06011', 'SS06021', 'SS07011',\n",
              "       'SS07021', 'SS09011', 'SS09021', 'SS10011', 'SS11031', 'SS13031',\n",
              "       'SS14011', 'SS14021', 'SS14022', 'SS16011', 'SS16014', 'SS17031',\n",
              "       'SS17032', 'SS18041', 'SS18042', 'SS18043', 'SS1804B', 'SS18064',\n",
              "       'SS20021', 'SS20022', 'SS20051', 'SS20052', 'SS20053', 'SS27051',\n",
              "       'SS27061', 'SS30021', 'SS31022', 'SS31023', 'SS33032', 'SS45011',\n",
              "       'SS4501A', 'SS45021', 'SS45031', 'SS47014', 'SS47015', 'SS47016',\n",
              "       'SS47021', 'SS48021', 'SS52051', 'SS53021', 'SS53022', 'SS53023',\n",
              "       'SS53031', 'SS5702', 'SS5703', 'SS61011', 'SS61021', 'SS61023',\n",
              "       'SS61031', 'SS61032', 'SS62011', 'SS62031', 'SS62032', 'SS62051',\n",
              "       'SS62052', 'SS62053', 'SS62054', 'SS62055', 'SS68021', 'SS68023',\n",
              "       'SSEA011', 'SSFV031A', 'SSGE013', 'SSHJ031'], dtype=object)"
            ]
          },
          "metadata": {},
          "execution_count": 127
        }
      ]
    },
    {
      "cell_type": "code",
      "metadata": {
        "colab": {
          "base_uri": "https://localhost:8080/",
          "height": 202
        },
        "id": "9BiXV1h8g3vl",
        "outputId": "9ac0c8e8-8d10-418f-abfc-bae9b4216604"
      },
      "source": [
        "df.head()"
      ],
      "execution_count": 128,
      "outputs": [
        {
          "output_type": "execute_result",
          "data": {
            "text/html": [
              "<div>\n",
              "<style scoped>\n",
              "    .dataframe tbody tr th:only-of-type {\n",
              "        vertical-align: middle;\n",
              "    }\n",
              "\n",
              "    .dataframe tbody tr th {\n",
              "        vertical-align: top;\n",
              "    }\n",
              "\n",
              "    .dataframe thead th {\n",
              "        text-align: right;\n",
              "    }\n",
              "</style>\n",
              "<table border=\"1\" class=\"dataframe\">\n",
              "  <thead>\n",
              "    <tr style=\"text-align: right;\">\n",
              "      <th></th>\n",
              "      <th>item_code</th>\n",
              "      <th>item_name</th>\n",
              "      <th>display_level</th>\n",
              "      <th>selectable</th>\n",
              "      <th>sort_sequence</th>\n",
              "    </tr>\n",
              "  </thead>\n",
              "  <tbody>\n",
              "    <tr>\n",
              "      <th>0</th>\n",
              "      <td>AA0</td>\n",
              "      <td>All items - old base</td>\n",
              "      <td>0</td>\n",
              "      <td>T</td>\n",
              "      <td>2</td>\n",
              "    </tr>\n",
              "    <tr>\n",
              "      <th>1</th>\n",
              "      <td>AA0R</td>\n",
              "      <td>Purchasing power of the consumer dollar - old ...</td>\n",
              "      <td>0</td>\n",
              "      <td>T</td>\n",
              "      <td>399</td>\n",
              "    </tr>\n",
              "    <tr>\n",
              "      <th>2</th>\n",
              "      <td>SA0</td>\n",
              "      <td>All items</td>\n",
              "      <td>0</td>\n",
              "      <td>T</td>\n",
              "      <td>1</td>\n",
              "    </tr>\n",
              "    <tr>\n",
              "      <th>3</th>\n",
              "      <td>SA0E</td>\n",
              "      <td>Energy</td>\n",
              "      <td>1</td>\n",
              "      <td>T</td>\n",
              "      <td>374</td>\n",
              "    </tr>\n",
              "    <tr>\n",
              "      <th>4</th>\n",
              "      <td>SA0L1</td>\n",
              "      <td>All items less food</td>\n",
              "      <td>1</td>\n",
              "      <td>T</td>\n",
              "      <td>358</td>\n",
              "    </tr>\n",
              "  </tbody>\n",
              "</table>\n",
              "</div>"
            ],
            "text/plain": [
              "  item_code  ... sort_sequence\n",
              "0       AA0  ...             2\n",
              "1      AA0R  ...           399\n",
              "2       SA0  ...             1\n",
              "3      SA0E  ...           374\n",
              "4     SA0L1  ...           358\n",
              "\n",
              "[5 rows x 5 columns]"
            ]
          },
          "metadata": {},
          "execution_count": 128
        }
      ]
    },
    {
      "cell_type": "code",
      "metadata": {
        "colab": {
          "base_uri": "https://localhost:8080/"
        },
        "id": "V0tly7oeg-y7",
        "outputId": "b3d9fe2a-f6c0-4ece-903e-b0e9bd621625"
      },
      "source": [
        "df.info()"
      ],
      "execution_count": 129,
      "outputs": [
        {
          "output_type": "stream",
          "name": "stdout",
          "text": [
            "<class 'pandas.core.frame.DataFrame'>\n",
            "RangeIndex: 399 entries, 0 to 398\n",
            "Data columns (total 5 columns):\n",
            " #   Column         Non-Null Count  Dtype \n",
            "---  ------         --------------  ----- \n",
            " 0   item_code      399 non-null    object\n",
            " 1   item_name      399 non-null    object\n",
            " 2   display_level  399 non-null    int64 \n",
            " 3   selectable     399 non-null    object\n",
            " 4   sort_sequence  399 non-null    int64 \n",
            "dtypes: int64(2), object(3)\n",
            "memory usage: 15.7+ KB\n"
          ]
        }
      ]
    },
    {
      "cell_type": "code",
      "metadata": {
        "colab": {
          "base_uri": "https://localhost:8080/",
          "height": 294
        },
        "id": "SO63pKKfhJLN",
        "outputId": "2d5c3428-ab49-43a4-9d36-3696071e9131"
      },
      "source": [
        "df.describe()"
      ],
      "execution_count": 130,
      "outputs": [
        {
          "output_type": "execute_result",
          "data": {
            "text/html": [
              "<div>\n",
              "<style scoped>\n",
              "    .dataframe tbody tr th:only-of-type {\n",
              "        vertical-align: middle;\n",
              "    }\n",
              "\n",
              "    .dataframe tbody tr th {\n",
              "        vertical-align: top;\n",
              "    }\n",
              "\n",
              "    .dataframe thead th {\n",
              "        text-align: right;\n",
              "    }\n",
              "</style>\n",
              "<table border=\"1\" class=\"dataframe\">\n",
              "  <thead>\n",
              "    <tr style=\"text-align: right;\">\n",
              "      <th></th>\n",
              "      <th>display_level</th>\n",
              "      <th>sort_sequence</th>\n",
              "    </tr>\n",
              "  </thead>\n",
              "  <tbody>\n",
              "    <tr>\n",
              "      <th>count</th>\n",
              "      <td>399.000000</td>\n",
              "      <td>399.000000</td>\n",
              "    </tr>\n",
              "    <tr>\n",
              "      <th>mean</th>\n",
              "      <td>3.192982</td>\n",
              "      <td>200.000000</td>\n",
              "    </tr>\n",
              "    <tr>\n",
              "      <th>std</th>\n",
              "      <td>1.817102</td>\n",
              "      <td>115.325626</td>\n",
              "    </tr>\n",
              "    <tr>\n",
              "      <th>min</th>\n",
              "      <td>0.000000</td>\n",
              "      <td>1.000000</td>\n",
              "    </tr>\n",
              "    <tr>\n",
              "      <th>25%</th>\n",
              "      <td>2.000000</td>\n",
              "      <td>100.500000</td>\n",
              "    </tr>\n",
              "    <tr>\n",
              "      <th>50%</th>\n",
              "      <td>3.000000</td>\n",
              "      <td>200.000000</td>\n",
              "    </tr>\n",
              "    <tr>\n",
              "      <th>75%</th>\n",
              "      <td>4.000000</td>\n",
              "      <td>299.500000</td>\n",
              "    </tr>\n",
              "    <tr>\n",
              "      <th>max</th>\n",
              "      <td>8.000000</td>\n",
              "      <td>399.000000</td>\n",
              "    </tr>\n",
              "  </tbody>\n",
              "</table>\n",
              "</div>"
            ],
            "text/plain": [
              "       display_level  sort_sequence\n",
              "count     399.000000     399.000000\n",
              "mean        3.192982     200.000000\n",
              "std         1.817102     115.325626\n",
              "min         0.000000       1.000000\n",
              "25%         2.000000     100.500000\n",
              "50%         3.000000     200.000000\n",
              "75%         4.000000     299.500000\n",
              "max         8.000000     399.000000"
            ]
          },
          "metadata": {},
          "execution_count": 130
        }
      ]
    },
    {
      "cell_type": "code",
      "metadata": {
        "colab": {
          "base_uri": "https://localhost:8080/",
          "height": 414
        },
        "id": "mrvoZzZphN0C",
        "outputId": "6cb81fc7-88f9-4b0b-a3d5-a91d5d1ac4bd"
      },
      "source": [
        "df[df['display_level']>4]"
      ],
      "execution_count": 131,
      "outputs": [
        {
          "output_type": "execute_result",
          "data": {
            "text/html": [
              "<div>\n",
              "<style scoped>\n",
              "    .dataframe tbody tr th:only-of-type {\n",
              "        vertical-align: middle;\n",
              "    }\n",
              "\n",
              "    .dataframe tbody tr th {\n",
              "        vertical-align: top;\n",
              "    }\n",
              "\n",
              "    .dataframe thead th {\n",
              "        text-align: right;\n",
              "    }\n",
              "</style>\n",
              "<table border=\"1\" class=\"dataframe\">\n",
              "  <thead>\n",
              "    <tr style=\"text-align: right;\">\n",
              "      <th></th>\n",
              "      <th>item_code</th>\n",
              "      <th>item_name</th>\n",
              "      <th>display_level</th>\n",
              "      <th>selectable</th>\n",
              "      <th>sort_sequence</th>\n",
              "    </tr>\n",
              "  </thead>\n",
              "  <tbody>\n",
              "    <tr>\n",
              "      <th>36</th>\n",
              "      <td>SAF11211</td>\n",
              "      <td>Meats</td>\n",
              "      <td>5</td>\n",
              "      <td>T</td>\n",
              "      <td>26</td>\n",
              "    </tr>\n",
              "    <tr>\n",
              "      <th>114</th>\n",
              "      <td>SEFA01</td>\n",
              "      <td>Flour and prepared flour mixes</td>\n",
              "      <td>5</td>\n",
              "      <td>T</td>\n",
              "      <td>8</td>\n",
              "    </tr>\n",
              "    <tr>\n",
              "      <th>115</th>\n",
              "      <td>SEFA02</td>\n",
              "      <td>Breakfast cereal</td>\n",
              "      <td>5</td>\n",
              "      <td>T</td>\n",
              "      <td>9</td>\n",
              "    </tr>\n",
              "    <tr>\n",
              "      <th>116</th>\n",
              "      <td>SEFA03</td>\n",
              "      <td>Rice, pasta, cornmeal</td>\n",
              "      <td>5</td>\n",
              "      <td>T</td>\n",
              "      <td>10</td>\n",
              "    </tr>\n",
              "    <tr>\n",
              "      <th>118</th>\n",
              "      <td>SEFB01</td>\n",
              "      <td>Bread</td>\n",
              "      <td>5</td>\n",
              "      <td>T</td>\n",
              "      <td>13</td>\n",
              "    </tr>\n",
              "    <tr>\n",
              "      <th>...</th>\n",
              "      <td>...</td>\n",
              "      <td>...</td>\n",
              "      <td>...</td>\n",
              "      <td>...</td>\n",
              "      <td>...</td>\n",
              "    </tr>\n",
              "    <tr>\n",
              "      <th>352</th>\n",
              "      <td>SS18064</td>\n",
              "      <td>Prepared salads</td>\n",
              "      <td>6</td>\n",
              "      <td>T</td>\n",
              "      <td>117</td>\n",
              "    </tr>\n",
              "    <tr>\n",
              "      <th>353</th>\n",
              "      <td>SS20021</td>\n",
              "      <td>Whiskey at home</td>\n",
              "      <td>5</td>\n",
              "      <td>T</td>\n",
              "      <td>129</td>\n",
              "    </tr>\n",
              "    <tr>\n",
              "      <th>354</th>\n",
              "      <td>SS20022</td>\n",
              "      <td>Distilled spirits, excluding whiskey, at home</td>\n",
              "      <td>5</td>\n",
              "      <td>T</td>\n",
              "      <td>130</td>\n",
              "    </tr>\n",
              "    <tr>\n",
              "      <th>358</th>\n",
              "      <td>SS27051</td>\n",
              "      <td>Land-line interstate toll calls</td>\n",
              "      <td>5</td>\n",
              "      <td>T</td>\n",
              "      <td>328</td>\n",
              "    </tr>\n",
              "    <tr>\n",
              "      <th>359</th>\n",
              "      <td>SS27061</td>\n",
              "      <td>Land-line intrastate toll calls</td>\n",
              "      <td>5</td>\n",
              "      <td>T</td>\n",
              "      <td>329</td>\n",
              "    </tr>\n",
              "  </tbody>\n",
              "</table>\n",
              "<p>95 rows × 5 columns</p>\n",
              "</div>"
            ],
            "text/plain": [
              "    item_code  ... sort_sequence\n",
              "36   SAF11211  ...            26\n",
              "114    SEFA01  ...             8\n",
              "115    SEFA02  ...             9\n",
              "116    SEFA03  ...            10\n",
              "118    SEFB01  ...            13\n",
              "..        ...  ...           ...\n",
              "352   SS18064  ...           117\n",
              "353   SS20021  ...           129\n",
              "354   SS20022  ...           130\n",
              "358   SS27051  ...           328\n",
              "359   SS27061  ...           329\n",
              "\n",
              "[95 rows x 5 columns]"
            ]
          },
          "metadata": {},
          "execution_count": 131
        }
      ]
    },
    {
      "cell_type": "code",
      "metadata": {
        "colab": {
          "base_uri": "https://localhost:8080/",
          "height": 110
        },
        "id": "Mnkof3Uthl6o",
        "outputId": "73ed42f8-30b8-45e6-b925-f80238460f12"
      },
      "source": [
        "df.corr()"
      ],
      "execution_count": 132,
      "outputs": [
        {
          "output_type": "execute_result",
          "data": {
            "text/html": [
              "<div>\n",
              "<style scoped>\n",
              "    .dataframe tbody tr th:only-of-type {\n",
              "        vertical-align: middle;\n",
              "    }\n",
              "\n",
              "    .dataframe tbody tr th {\n",
              "        vertical-align: top;\n",
              "    }\n",
              "\n",
              "    .dataframe thead th {\n",
              "        text-align: right;\n",
              "    }\n",
              "</style>\n",
              "<table border=\"1\" class=\"dataframe\">\n",
              "  <thead>\n",
              "    <tr style=\"text-align: right;\">\n",
              "      <th></th>\n",
              "      <th>display_level</th>\n",
              "      <th>sort_sequence</th>\n",
              "    </tr>\n",
              "  </thead>\n",
              "  <tbody>\n",
              "    <tr>\n",
              "      <th>display_level</th>\n",
              "      <td>1.00000</td>\n",
              "      <td>-0.70548</td>\n",
              "    </tr>\n",
              "    <tr>\n",
              "      <th>sort_sequence</th>\n",
              "      <td>-0.70548</td>\n",
              "      <td>1.00000</td>\n",
              "    </tr>\n",
              "  </tbody>\n",
              "</table>\n",
              "</div>"
            ],
            "text/plain": [
              "               display_level  sort_sequence\n",
              "display_level        1.00000       -0.70548\n",
              "sort_sequence       -0.70548        1.00000"
            ]
          },
          "metadata": {},
          "execution_count": 132
        }
      ]
    },
    {
      "cell_type": "code",
      "metadata": {
        "colab": {
          "base_uri": "https://localhost:8080/"
        },
        "id": "C_qGh4uShqhs",
        "outputId": "632d8fbe-877a-4f73-b5cc-0705a08bbd80"
      },
      "source": [
        "df['display_level'][50]"
      ],
      "execution_count": 133,
      "outputs": [
        {
          "output_type": "execute_result",
          "data": {
            "text/plain": [
              "1"
            ]
          },
          "metadata": {},
          "execution_count": 133
        }
      ]
    },
    {
      "cell_type": "code",
      "metadata": {
        "colab": {
          "base_uri": "https://localhost:8080/"
        },
        "id": "Pm-2HMeOifBp",
        "outputId": "8e3e296d-015a-46bd-af76-dac459a4428f"
      },
      "source": [
        "df['display_level'][105]"
      ],
      "execution_count": 134,
      "outputs": [
        {
          "output_type": "execute_result",
          "data": {
            "text/plain": [
              "4"
            ]
          },
          "metadata": {},
          "execution_count": 134
        }
      ]
    },
    {
      "cell_type": "code",
      "metadata": {
        "colab": {
          "base_uri": "https://localhost:8080/"
        },
        "id": "HDccjoFPiiqR",
        "outputId": "22e6fed3-d98a-4145-cd45-2d6b0e7eff51"
      },
      "source": [
        "df.dtypes"
      ],
      "execution_count": 135,
      "outputs": [
        {
          "output_type": "execute_result",
          "data": {
            "text/plain": [
              "item_code        object\n",
              "item_name        object\n",
              "display_level     int64\n",
              "selectable       object\n",
              "sort_sequence     int64\n",
              "dtype: object"
            ]
          },
          "metadata": {},
          "execution_count": 135
        }
      ]
    },
    {
      "cell_type": "code",
      "metadata": {
        "id": "-5HWP0_sjMiq"
      },
      "source": [
        ""
      ],
      "execution_count": null,
      "outputs": []
    }
  ]
}