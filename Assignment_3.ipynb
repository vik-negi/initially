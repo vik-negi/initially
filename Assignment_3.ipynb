{
  "nbformat": 4,
  "nbformat_minor": 0,
  "metadata": {
    "colab": {
      "name": "Assignment_3.ipynb",
      "provenance": []
    },
    "kernelspec": {
      "name": "python3",
      "display_name": "Python 3"
    },
    "language_info": {
      "name": "python"
    }
  },
  "cells": [
    {
      "cell_type": "code",
      "metadata": {
        "colab": {
          "base_uri": "https://localhost:8080/"
        },
        "id": "aqa2J4LKC9te",
        "outputId": "f67224a0-8ea7-42bb-af3a-c69b5610a73d"
      },
      "source": [
        "# Assignment-3\n",
        "# Question -->>\n",
        "# def fun1(a,b=0,*args,**kwargs):\n",
        "# --------??\n",
        "# --------\n",
        "# fun1(?)\n",
        "def fun1(a, b=0, *args, **kwargs):\n",
        "    print(a,b,args,kwargs)\n",
        "\n",
        "fun1(1,2,3,Skill=\"python\")"
      ],
      "execution_count": 1,
      "outputs": [
        {
          "output_type": "stream",
          "name": "stdout",
          "text": [
            "1 2 (3,) {'Skill': 'python'}\n"
          ]
        }
      ]
    },
    {
      "cell_type": "code",
      "metadata": {
        "id": "J9uhSD07Ewdy"
      },
      "source": [
        ""
      ],
      "execution_count": null,
      "outputs": []
    }
  ]
}