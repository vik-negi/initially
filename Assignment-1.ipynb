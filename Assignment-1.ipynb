{
  "nbformat": 4,
  "nbformat_minor": 0,
  "metadata": {
    "colab": {
      "name": "Regex_Assignment_1.ipynb",
      "provenance": [],
      "collapsed_sections": []
    },
    "kernelspec": {
      "display_name": "Python 3",
      "name": "python3"
    },
    "language_info": {
      "name": "python"
    }
  },
  "cells": [
    {
      "cell_type": "markdown",
      "metadata": {
        "id": "afZdzrovBzsd"
      },
      "source": [
        "# ASSIGNMENT 1\n",
        "### #Task 1\n",
        "**NAME = VIKRAM NEGI**"
      ]
    },
    {
      "cell_type": "markdown",
      "metadata": {
        "id": "60y4Vx4_CbZC"
      },
      "source": [
        "**Write code in python to print following patterns**"
      ]
    },
    {
      "cell_type": "markdown",
      "metadata": {
        "id": "W2ssPIgvCtRF"
      },
      "source": [
        "###Question 1 -->>\n",
        "5 5 5 5 5\\\n",
        "5 5 5 5\\\n",
        "5 5 5\\\n",
        "5 5\\\n",
        "5\n"
      ]
    },
    {
      "cell_type": "code",
      "metadata": {
        "colab": {
          "background_save": true,
          "base_uri": "https://localhost:8080/"
        },
        "id": "rzbIIdDOCLJO",
        "outputId": "61ae4a58-a7b2-4f8f-801f-163c227724e9"
      },
      "source": [
        "for i in range(5):\n",
        "  for j in range(i, 5):\n",
        "    print(\"5\", end=\" \")\n",
        "  print()"
      ],
      "execution_count": null,
      "outputs": [
        {
          "name": "stdout",
          "output_type": "stream",
          "text": [
            "5 5 5 5 5 \n",
            "5 5 5 5 \n",
            "5 5 5 \n",
            "5 5 \n",
            "5 \n"
          ]
        }
      ]
    },
    {
      "cell_type": "markdown",
      "metadata": {
        "id": "gfhOszdMD-qx"
      },
      "source": [
        "###Question 2 -->>\n",
        "0 1 2 3 4 5\\\n",
        "0 1 2 3 4\\\n",
        "0 1 2 3\\\n",
        "0 1 2\\\n",
        "0 1"
      ]
    },
    {
      "cell_type": "code",
      "metadata": {
        "colab": {
          "base_uri": "https://localhost:8080/"
        },
        "id": "wxtsSrIVDpBI",
        "outputId": "c2094937-f412-4eb9-fc53-5b387a9b0fcd"
      },
      "source": [
        "for i in range(5):\n",
        "  for j in range(0, 6-i):\n",
        "    print(j, end=\" \")\n",
        "  print()"
      ],
      "execution_count": null,
      "outputs": [
        {
          "name": "stdout",
          "output_type": "stream",
          "text": [
            "0 1 2 3 4 5 \n",
            "0 1 2 3 4 \n",
            "0 1 2 3 \n",
            "0 1 2 \n",
            "0 1 \n"
          ]
        }
      ]
    },
    {
      "cell_type": "markdown",
      "metadata": {
        "id": "dne0EBq0F4RY"
      },
      "source": [
        "###Question\n",
        "1\\\n",
        "3 3\\\n",
        "5 5 5\\\n",
        "7 7 7 7\\\n",
        "9 9 9 9 9"
      ]
    },
    {
      "cell_type": "code",
      "metadata": {
        "colab": {
          "base_uri": "https://localhost:8080/"
        },
        "id": "ZmThMhuiEKJh",
        "outputId": "342575f1-b5e0-46be-ebe7-632c29e1fb15"
      },
      "source": [
        "for i in range(1,10,2):\n",
        "  for j in range(0,i,2):\n",
        "    print(i, end=\" \")\n",
        "  print()"
      ],
      "execution_count": null,
      "outputs": [
        {
          "name": "stdout",
          "output_type": "stream",
          "text": [
            "1 \n",
            "3 3 \n",
            "5 5 5 \n",
            "7 7 7 7 \n",
            "9 9 9 9 9 \n"
          ]
        }
      ]
    },
    {
      "cell_type": "markdown",
      "metadata": {
        "id": "cJY6eSUCIXXw"
      },
      "source": [
        "###Question-->> 4.\n",
        "1\\\n",
        "2 1\\\n",
        "3 2 1\\\n",
        "4 3 2 1\\\n",
        "5 4 3 2 1\n"
      ]
    },
    {
      "cell_type": "code",
      "metadata": {
        "colab": {
          "base_uri": "https://localhost:8080/"
        },
        "id": "_m3-XmehG1Vy",
        "outputId": "f209c31f-db67-47de-9286-7f5ceefb2c0d"
      },
      "source": [
        "for i in range(0, 6):\n",
        "  for j in range(i, 0, -1):\n",
        "    print(j, end=\" \")\n",
        "  print()"
      ],
      "execution_count": null,
      "outputs": [
        {
          "name": "stdout",
          "output_type": "stream",
          "text": [
            "\n",
            "1 \n",
            "2 1 \n",
            "3 2 1 \n",
            "4 3 2 1 \n",
            "5 4 3 2 1 \n"
          ]
        }
      ]
    },
    {
      "cell_type": "markdown",
      "metadata": {
        "id": "Sg1ek2RFJO2m"
      },
      "source": [
        "###Question-->>5\n",
        "1\\\n",
        "3 2\\\n",
        "6 5 4\\\n",
        "10 9 8 7"
      ]
    },
    {
      "cell_type": "code",
      "metadata": {
        "colab": {
          "base_uri": "https://localhost:8080/"
        },
        "id": "0uPjcIJWJHY8",
        "outputId": "d142d6de-ba42-4a94-c369-0f27878e13bb"
      },
      "source": [
        "m=1\n",
        "for i in range(1,5 ):\n",
        "  for j in range(m, m-i, -1):\n",
        "    print(j, end=\" \")\n",
        "  m=m+i+1\n",
        "  print()"
      ],
      "execution_count": 1,
      "outputs": [
        {
          "output_type": "stream",
          "name": "stdout",
          "text": [
            "1 \n",
            "3 2 \n",
            "6 5 4 \n",
            "10 9 8 7 \n"
          ]
        }
      ]
    },
    {
      "cell_type": "markdown",
      "metadata": {
        "id": "78HpnjBjKNed"
      },
      "source": [
        "###Question-->>6\n",
        "1\\\n",
        "1 1\\\n",
        "1 2 1\\\n",
        "1 3 3 1\\\n",
        "1 4 6 4 1\\\n",
        "1 5 10 10 5 1\\\n",
        "1 6 15 20 15 6 1\n"
      ]
    },
    {
      "cell_type": "code",
      "metadata": {
        "colab": {
          "base_uri": "https://localhost:8080/"
        },
        "id": "jjOsHtJtJeIj",
        "outputId": "acc61dcc-a029-4b18-8c16-56e892f7a040"
      },
      "source": [
        "n=7\n",
        "for line in range(1, n + 1):\n",
        "\tC = 1;\n",
        "\tfor i in range(1, line + 1):\n",
        "\t\tprint(C, end = \" \");\n",
        "\t\tC = int(C * (line - i) / i);\n",
        "\tprint(\"\")"
      ],
      "execution_count": null,
      "outputs": [
        {
          "name": "stdout",
          "output_type": "stream",
          "text": [
            "1 \n",
            "1 1 \n",
            "1 2 1 \n",
            "1 3 3 1 \n",
            "1 4 6 4 1 \n",
            "1 5 10 10 5 1 \n",
            "1 6 15 20 15 6 1 \n"
          ]
        }
      ]
    },
    {
      "cell_type": "markdown",
      "metadata": {
        "id": "EFqlFxKpP7nl"
      },
      "source": [
        "###Question ->> 7\n",
        "1 2 3 4 5\\\n",
        "2 2 3 4 5\\\n",
        "3 3 3 4 5\\\n",
        "4 4 4 4 5\\\n",
        "5 5 5 5 5\n"
      ]
    },
    {
      "cell_type": "code",
      "metadata": {
        "colab": {
          "base_uri": "https://localhost:8080/"
        },
        "id": "QmQcNCT0Mm8G",
        "outputId": "c1ddcbaa-f1cc-46dc-d081-11891295302d"
      },
      "source": [
        "for i in range(1, 6):\n",
        "  for j in range(6, 6-i,-1):\n",
        "    print(i, end=\" \")\n",
        "  for j in range(i+1, 6):\n",
        "    print(j, end=\" \")\n",
        "  print()"
      ],
      "execution_count": null,
      "outputs": [
        {
          "name": "stdout",
          "output_type": "stream",
          "text": [
            "1 2 3 4 5 \n",
            "2 2 3 4 5 \n",
            "3 3 3 4 5 \n",
            "4 4 4 4 5 \n",
            "5 5 5 5 5 \n"
          ]
        }
      ]
    },
    {
      "cell_type": "markdown",
      "metadata": {
        "id": "iIT8lYBhS59a"
      },
      "source": [
        "###Question -->> 8\n",
        "1\\\n",
        "2 4\\\n",
        "3 6 9\\\n",
        "4 8 12 16\\\n",
        "5 10 15 20 25\\\n",
        "6 12 18 24 30 36\\\n",
        "7 14 21 28 35 42 49\\\n",
        "8 16 24 32 40 48 56 64"
      ]
    },
    {
      "cell_type": "code",
      "metadata": {
        "colab": {
          "base_uri": "https://localhost:8080/"
        },
        "id": "1g1uJkNuQN04",
        "outputId": "a3e93d48-0527-4fe6-c6cd-37011be25cef"
      },
      "source": [
        "for i in range(1, 9):\n",
        "  for j in range(i, i*i+1, i):\n",
        "    print(j, end=\" \")\n",
        "  print()"
      ],
      "execution_count": null,
      "outputs": [
        {
          "name": "stdout",
          "output_type": "stream",
          "text": [
            "1 \n",
            "2 4 \n",
            "3 6 9 \n",
            "4 8 12 16 \n",
            "5 10 15 20 25 \n",
            "6 12 18 24 30 36 \n",
            "7 14 21 28 35 42 49 \n",
            "8 16 24 32 40 48 56 64 \n"
          ]
        }
      ]
    },
    {
      "cell_type": "markdown",
      "metadata": {
        "id": "YwljKXDhU6xM"
      },
      "source": [
        "###Question-->> 9\n",
        "* * * * * *\n",
        " * * * * *\n",
        "  * * * *\n",
        "   * * *\n",
        "    * *\n",
        "     * "
      ]
    },
    {
      "cell_type": "code",
      "metadata": {
        "colab": {
          "base_uri": "https://localhost:8080/"
        },
        "id": "uPsOFUPETN2v",
        "outputId": "2adeabf7-628a-4a94-cb1e-79bf92728d0d"
      },
      "source": [
        "for i in range(6):\n",
        "  for j in range(0,i):\n",
        "    print(\"\", end=\" \")\n",
        "  for j in range(0,6-i):\n",
        "    print(\"*\", end=\" \")\n",
        "  print()"
      ],
      "execution_count": null,
      "outputs": [
        {
          "name": "stdout",
          "output_type": "stream",
          "text": [
            "* * * * * * \n",
            " * * * * * \n",
            "  * * * * \n",
            "   * * * \n",
            "    * * \n",
            "     * \n"
          ]
        }
      ]
    },
    {
      "cell_type": "markdown",
      "metadata": {
        "id": "tDPmbKe0XQLz"
      },
      "source": [
        "Question-->>10\n",
        "      *\n",
        "     * *\n",
        "    * * *\n",
        "   * * * *\n",
        "  * * * * *\n",
        " * * * * * * "
      ]
    },
    {
      "cell_type": "code",
      "metadata": {
        "colab": {
          "base_uri": "https://localhost:8080/"
        },
        "id": "PbWgk6mOWtnP",
        "outputId": "02846427-9fd3-40ea-c1da-328d7ccfd207"
      },
      "source": [
        "for i in range(0, 7):\n",
        "  for j in range(0,7-i):\n",
        "    print(\" \", end=\"\")\n",
        "  for j in range(0, i+1):\n",
        "    print(\" * \", end=\"\")\n",
        "  print()"
      ],
      "execution_count": null,
      "outputs": [
        {
          "name": "stdout",
          "output_type": "stream",
          "text": [
            "        * \n",
            "       *  * \n",
            "      *  *  * \n",
            "     *  *  *  * \n",
            "    *  *  *  *  * \n",
            "   *  *  *  *  *  * \n",
            "  *  *  *  *  *  *  * \n"
          ]
        }
      ]
    },
    {
      "cell_type": "markdown",
      "metadata": {
        "id": "SWexM6CSYtKo"
      },
      "source": [
        "Question -->> 11\n",
        "*\n",
        "* *\n",
        "* * *\n",
        "* * * *\n",
        "* * * * *\n",
        "* * * * * *\n",
        "\n",
        "* * * * * *\n",
        "* * * * *\n",
        "* * * *\n",
        "* * *\n",
        "* *\n",
        "* "
      ]
    },
    {
      "cell_type": "code",
      "metadata": {
        "colab": {
          "base_uri": "https://localhost:8080/"
        },
        "id": "FhOH9gkSYIHd",
        "outputId": "fa4c9347-7ec6-4592-bd85-188172b1b887"
      },
      "source": [
        "for i in range(0, 6):\n",
        "  for j in range(0, i+1):\n",
        "    print(\"* \", end=\"\")\n",
        "  print()\n",
        "print()\n",
        "for i in range(0, 6):\n",
        "  for j in range(0, 6-i):\n",
        "    print(\"* \", end=\"\")\n",
        "  print()"
      ],
      "execution_count": null,
      "outputs": [
        {
          "name": "stdout",
          "output_type": "stream",
          "text": [
            "* \n",
            "* * \n",
            "* * * \n",
            "* * * * \n",
            "* * * * * \n",
            "* * * * * * \n",
            "\n",
            "* * * * * * \n",
            "* * * * * \n",
            "* * * * \n",
            "* * * \n",
            "* * \n",
            "* \n"
          ]
        }
      ]
    },
    {
      "cell_type": "markdown",
      "metadata": {
        "id": "rDGDr6xPZp6d"
      },
      "source": [
        "Question-->>12\n",
        "*\n",
        "* *\n",
        "* * *\n",
        "* * * *\n",
        "* * * * *\n",
        "* * * *\n",
        "* * *\n",
        "* *\n",
        "* "
      ]
    },
    {
      "cell_type": "code",
      "metadata": {
        "colab": {
          "base_uri": "https://localhost:8080/"
        },
        "id": "7jWY_JOcZOXI",
        "outputId": "2e9a6213-b799-4155-9d1d-d057b16a1007"
      },
      "source": [
        "for i in range(0, 5):\n",
        "  for j in range(0, i+1):\n",
        "    print(\"* \", end=\"\")\n",
        "  print()\n",
        "for i in range(0, 4):\n",
        "  for j in range(0, 4-i):\n",
        "    print(\"* \", end=\"\")\n",
        "  print()"
      ],
      "execution_count": null,
      "outputs": [
        {
          "name": "stdout",
          "output_type": "stream",
          "text": [
            "* \n",
            "* * \n",
            "* * * \n",
            "* * * * \n",
            "* * * * * \n",
            "* * * * \n",
            "* * * \n",
            "* * \n",
            "* \n"
          ]
        }
      ]
    },
    {
      "cell_type": "markdown",
      "metadata": {
        "id": "2BhBGBZQaFK9"
      },
      "source": [
        "Question-->>13\n",
        "        *\n",
        "      * *\n",
        "    * * *\n",
        "  * * * *\n",
        "* * * * *\n",
        "  * * * *\n",
        "    * * *\n",
        "      * *\n",
        "        * "
      ]
    },
    {
      "cell_type": "code",
      "metadata": {
        "colab": {
          "base_uri": "https://localhost:8080/"
        },
        "id": "kKUURGeNZ_sL",
        "outputId": "d23a9fcb-dc5a-4b41-af6b-9637dd95678e"
      },
      "source": [
        "for i in range(0, 5):\n",
        "  for j in range(0, 5-i):\n",
        "    print(\"  \",end=\"\")\n",
        "  for j in range(0, i+1):\n",
        "    print(\"* \", end=\"\")\n",
        "  print()\n",
        "for i in range(0, 5):\n",
        "  for j in range(0, i+2):\n",
        "    print(\"  \",end=\"\")\n",
        "  for j in range(0, 4-i):\n",
        "    print(\"* \", end=\"\")\n",
        "  print()"
      ],
      "execution_count": null,
      "outputs": [
        {
          "name": "stdout",
          "output_type": "stream",
          "text": [
            "          * \n",
            "        * * \n",
            "      * * * \n",
            "    * * * * \n",
            "  * * * * * \n",
            "    * * * * \n",
            "      * * * \n",
            "        * * \n",
            "          * \n",
            "            \n"
          ]
        }
      ]
    },
    {
      "cell_type": "markdown",
      "metadata": {
        "id": "A31ZcK5pbbTe"
      },
      "source": [
        "Question-->>14\n",
        "* * * * *\n",
        " * * * *\n",
        "  * * *\n",
        "   * *\n",
        "    * \n",
        "    *\n",
        "   * *\n",
        "  * * *\n",
        " * * * *\n",
        "* * * * * "
      ]
    },
    {
      "cell_type": "code",
      "metadata": {
        "colab": {
          "base_uri": "https://localhost:8080/"
        },
        "id": "WVFgxCGFavB2",
        "outputId": "e7ecd48a-4f6d-4264-f2f9-9c10d5ebd7b1"
      },
      "source": [
        "for i in range(0, 5):\n",
        "  for j in range(0, i):\n",
        "    print(\" \", end=\"\")\n",
        "  for j in range(0, 5-i):\n",
        "    print(\"* \", end=\"\")\n",
        "  print()\n",
        "for i in range(1, 6):\n",
        "  for j in range(1, 6-i):\n",
        "    print(\" \", end=\"\")\n",
        "  for j in range(0, i):\n",
        "    print(\"* \", end=\"\")\n",
        "  print()"
      ],
      "execution_count": null,
      "outputs": [
        {
          "name": "stdout",
          "output_type": "stream",
          "text": [
            "* * * * * \n",
            " * * * * \n",
            "  * * * \n",
            "   * * \n",
            "    * \n",
            "    * \n",
            "   * * \n",
            "  * * * \n",
            " * * * * \n",
            "* * * * * \n"
          ]
        }
      ]
    },
    {
      "cell_type": "markdown",
      "metadata": {
        "id": "RLxtSY3Jc_94"
      },
      "source": [
        "Question-->>15\n",
        "****************\n",
        "*******__*******\n",
        "******____******\n",
        "*****______*****\n",
        "****________****\n",
        "***__________***\n",
        "**____________**\n",
        "*______________*\n"
      ]
    },
    {
      "cell_type": "code",
      "metadata": {
        "colab": {
          "base_uri": "https://localhost:8080/"
        },
        "id": "Fg2hJr8zcCcb",
        "outputId": "dfe85d25-0e56-4b5d-8069-07970446c64b"
      },
      "source": [
        "for i in range(0, 8):\n",
        "  for j in range(0, 8-i):\n",
        "    print(\"*\", end=\"\")\n",
        "  for j in range(0, i):\n",
        "    print(\"_\", end=\"\")\n",
        "  for j in range(0, i):\n",
        "    print(\"_\", end=\"\")\n",
        "  for j in range(0, 8-i):\n",
        "    print(\"*\", end=\"\")\n",
        "  print()"
      ],
      "execution_count": null,
      "outputs": [
        {
          "name": "stdout",
          "output_type": "stream",
          "text": [
            "****************\n",
            "*******__*******\n",
            "******____******\n",
            "*****______*****\n",
            "****________****\n",
            "***__________***\n",
            "**____________**\n",
            "*______________*\n"
          ]
        }
      ]
    },
    {
      "cell_type": "code",
      "metadata": {
        "id": "hSGf8htxdu2w"
      },
      "source": [
        ""
      ],
      "execution_count": null,
      "outputs": []
    }
  ]
}