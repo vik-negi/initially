{
  "nbformat": 4,
  "nbformat_minor": 0,
  "metadata": {
    "colab": {
      "name": "Assignment_Day_2.ipynb",
      "provenance": []
    },
    "kernelspec": {
      "name": "python3",
      "display_name": "Python 3"
    },
    "language_info": {
      "name": "python"
    }
  },
  "cells": [
    {
      "cell_type": "markdown",
      "metadata": {
        "id": "zCU7LfPQC4yg"
      },
      "source": [
        "Assignment:\n",
        "\n",
        "---\n",
        "\n",
        "\n",
        "\n",
        "---\n",
        "\n",
        "Question 1-->>\n",
        "From the above array, retrieve the values([[3,4],[5,6]]) using indexing"
      ]
    },
    {
      "cell_type": "code",
      "metadata": {
        "id": "HuOEcDKdEOZu"
      },
      "source": [
        "import numpy as np"
      ],
      "execution_count": 2,
      "outputs": []
    },
    {
      "cell_type": "code",
      "metadata": {
        "colab": {
          "base_uri": "https://localhost:8080/"
        },
        "id": "qCffASvLDLgy",
        "outputId": "42c05c20-cf31-4421-cfd2-ef894166af07"
      },
      "source": [
        "list1=[1,2,3,4,5]\n",
        "list2=[2,3,4,5,6]\n",
        "list3=[4,5,6,7,8]\n",
        "\n",
        "arr1=np.array([list1,list2,list3])\n",
        "arr1"
      ],
      "execution_count": 3,
      "outputs": [
        {
          "output_type": "execute_result",
          "data": {
            "text/plain": [
              "array([[1, 2, 3, 4, 5],\n",
              "       [2, 3, 4, 5, 6],\n",
              "       [4, 5, 6, 7, 8]])"
            ]
          },
          "metadata": {},
          "execution_count": 3
        }
      ]
    },
    {
      "cell_type": "code",
      "metadata": {
        "colab": {
          "base_uri": "https://localhost:8080/"
        },
        "id": "o-hPRNiJEHZh",
        "outputId": "78fc4648-23b5-4cd3-b756-d480bc815856"
      },
      "source": [
        "arr1[1:3,1:3]"
      ],
      "execution_count": 6,
      "outputs": [
        {
          "output_type": "execute_result",
          "data": {
            "text/plain": [
              "array([[3, 4],\n",
              "       [5, 6]])"
            ]
          },
          "metadata": {},
          "execution_count": 6
        }
      ]
    },
    {
      "cell_type": "markdown",
      "metadata": {
        "id": "GAEBAH4mEvsh"
      },
      "source": [
        "Question 2-->>Retrieve the value ([3,4,5]) using indexing."
      ]
    },
    {
      "cell_type": "code",
      "metadata": {
        "colab": {
          "base_uri": "https://localhost:8080/"
        },
        "id": "6GRSBvu8FqxT",
        "outputId": "dc3f9031-7b27-498b-cbde-b6b588c1a073"
      },
      "source": [
        "arr1[1:2,1:4]"
      ],
      "execution_count": 7,
      "outputs": [
        {
          "output_type": "execute_result",
          "data": {
            "text/plain": [
              "array([[3, 4, 5]])"
            ]
          },
          "metadata": {},
          "execution_count": 7
        }
      ]
    },
    {
      "cell_type": "code",
      "metadata": {
        "id": "Gt5lw2CVF4GR"
      },
      "source": [
        ""
      ],
      "execution_count": null,
      "outputs": []
    }
  ]
}