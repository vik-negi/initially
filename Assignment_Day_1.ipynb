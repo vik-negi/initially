{
  "nbformat": 4,
  "nbformat_minor": 0,
  "metadata": {
    "colab": {
      "name": "Assignment_Day_1.ipynb",
      "provenance": [],
      "collapsed_sections": []
    },
    "kernelspec": {
      "name": "python3",
      "display_name": "Python 3"
    },
    "language_info": {
      "name": "python"
    }
  },
  "cells": [
    {
      "cell_type": "code",
      "metadata": {
        "colab": {
          "base_uri": "https://localhost:8080/"
        },
        "id": "5xwmhcek15LT",
        "outputId": "52f1bb48-2abd-4d37-effe-485d079330e7"
      },
      "source": [
        "#Question ----->>>\n",
        "a=10\n",
        "b=20\n",
        "\n",
        "print(a*b)\n",
        "print(a/b)\n",
        "print(a%b)\n",
        "print((a*b)+(a/b)) ##BODMAS"
      ],
      "execution_count": 1,
      "outputs": [
        {
          "output_type": "stream",
          "name": "stdout",
          "text": [
            "200\n",
            "0.5\n",
            "10\n",
            "200.5\n"
          ]
        }
      ]
    },
    {
      "cell_type": "code",
      "metadata": {
        "colab": {
          "base_uri": "https://localhost:8080/"
        },
        "id": "eubbXSXX3teP",
        "outputId": "137ba25e-20d1-49f2-8f5d-45060726deb2"
      },
      "source": [
        "# Question -->> Write a program which accept principle, rate and time from user and print the simple interest. \n",
        "#               The formula to calculate simple interest is: simple interest = principle x rate x time / 100 Solution\n",
        "principle=float(input(\"Principle : \"))\n",
        "rate=float(input(\"Rate : \"))\n",
        "time=float(input(\"Time : \"))\n",
        "simple_interest=(principle*rate*time)/100\n",
        "print(f\"Simple interest : {simple_interest}\")"
      ],
      "execution_count": 8,
      "outputs": [
        {
          "output_type": "stream",
          "name": "stdout",
          "text": [
            "Principle : 10000\n",
            "Rate : 12\n",
            "Time : 5\n",
            "Simple interest : 6000.0\n"
          ]
        }
      ]
    },
    {
      "cell_type": "code",
      "metadata": {
        "id": "GPXZHBZK4tj8"
      },
      "source": [
        ""
      ],
      "execution_count": null,
      "outputs": []
    }
  ]
}